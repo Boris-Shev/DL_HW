{
  "cells": [
    {
      "cell_type": "markdown",
      "metadata": {
        "id": "jNtLJlW4v5VF"
      },
      "source": [
        "## Домашнее задание №8\n",
        "\n",
        "В данном задании вам предстоит детально рассмотреть механизм Attention и реализовать несколько его вариантов."
      ]
    },
    {
      "cell_type": "code",
      "execution_count": null,
      "metadata": {
        "id": "BJJi4X973ka5"
      },
      "outputs": [],
      "source": [
        "import os\n",
        "import random\n",
        "\n",
        "import numpy as np\n",
        "import pandas as pd\n",
        "\n",
        "from sklearn.metrics import roc_auc_score, roc_curve, accuracy_score\n",
        "\n",
        "import torch\n",
        "import torch.nn as nn\n",
        "import torch.nn.functional as F\n",
        "\n",
        "import matplotlib.pyplot as plt\n",
        "from IPython.display import clear_output\n",
        "%matplotlib inline"
      ]
    },
    {
      "cell_type": "markdown",
      "metadata": {
        "id": "gP02daPv3ka6"
      },
      "source": [
        "### Задание №1. Реализация Attention\n",
        "\n",
        "В данной задаче вам предстоит реализовать механизм Attention, в частности, несколько способов подсчета attention scores. Конечно, в популярных фреймворках данный механизм уже реализован, но для лучшего понимания вам предстаит реализовать его с помощью `numpy`.\n",
        "\n",
        "Ваше задание в данной задаче: реализовать `additive` (аддитивный) и `multiplicative` (мультипликативный) варианты Attention. Для вашего удобства (и для примера) `dot product` attention (основанный на скалярном произведении) уже реализован.\n",
        "\n",
        "Детальное описание данных типов Attention доступно в лекции."
      ]
    },
    {
      "cell_type": "markdown",
      "source": [
        "Рассмотрим вектор скрытого состояния и попробуем его визуализировать:"
      ],
      "metadata": {
        "id": "CRxQvmiHZ-Sy"
      }
    },
    {
      "cell_type": "code",
      "execution_count": null,
      "metadata": {
        "id": "jna862f43ka7",
        "colab": {
          "base_uri": "https://localhost:8080/",
          "height": 485
        },
        "outputId": "a8a306a4-8fcc-487d-d867-271b0bc14e46"
      },
      "outputs": [
        {
          "output_type": "execute_result",
          "data": {
            "text/plain": [
              "Text(0.5, 1.0, 'Decoder state')"
            ]
          },
          "metadata": {},
          "execution_count": 3
        },
        {
          "output_type": "display_data",
          "data": {
            "text/plain": [
              "<Figure size 200x500 with 2 Axes>"
            ],
            "image/png": "[encoded data removed]"
          },
          "metadata": {}
        }
      ],
      "source": [
        "decoder_hidden_state = np.array([7, 11, 4]).astype(float)[:, None]\n",
        "\n",
        "plt.figure(figsize=(2, 5))\n",
        "plt.pcolormesh(decoder_hidden_state)\n",
        "plt.colorbar()\n",
        "plt.title('Decoder state')"
      ]
    },
    {
      "cell_type": "markdown",
      "source": [
        "Теперь попробуем реализовать внимание, основанное на скалярном произведении."
      ],
      "metadata": {
        "id": "6Vg314AaaWbW"
      }
    },
    {
      "cell_type": "markdown",
      "metadata": {
        "id": "dnW98Acu3ka8"
      },
      "source": [
        "#### Dot product attention (пример реализации)\n",
        "Рассмотрим единственное состояние энкодера – вектор с размерностью `(n_hidden, 1)`, где `n_hidden = 3` - размерность вектора, который определяет единственное состояние энкодера:"
      ]
    },
    {
      "cell_type": "code",
      "execution_count": null,
      "metadata": {
        "id": "Ifxc5lvH3ka8"
      },
      "outputs": [],
      "source": [
        "single_encoder_hidden_state = np.array([1, 5, 11]).astype(float)[:, None]\n",
        "\n",
        "plt.figure(figsize=(2, 5))\n",
        "plt.pcolormesh(single_encoder_hidden_state)\n",
        "plt.colorbar()"
      ]
    },
    {
      "cell_type": "markdown",
      "metadata": {
        "id": "EJdguRk23ka8"
      },
      "source": [
        "Attention score между данными состояниями энкодера и декодера вычисляются просто как скалярное произведение:"
      ]
    },
    {
      "cell_type": "code",
      "execution_count": null,
      "metadata": {
        "id": "D1V_aW7X3ka9"
      },
      "outputs": [],
      "source": [
        "np.dot(decoder_hidden_state.T, single_encoder_hidden_state)"
      ]
    },
    {
      "cell_type": "markdown",
      "source": [
        "Обратите внимание на операцию транспонирования выше! Мы его используем, чтобы размерности входных параметров соответствовали требованиям для вычисления скалярного произведения (см. документацию к функции `np.dot()`)."
      ],
      "metadata": {
        "id": "VsydBu1Xatl-"
      }
    },
    {
      "cell_type": "markdown",
      "metadata": {
        "id": "2F8bmZTd3ka9"
      },
      "source": [
        "В общем случае состояний энкодера, конечно, несколько. Attention scores вычисляются с каждым из состояний энкодера. Т.е. мы работаем с целой матрицей состояний:"
      ]
    },
    {
      "cell_type": "code",
      "execution_count": null,
      "metadata": {
        "id": "FbLuIF7k3ka9"
      },
      "outputs": [],
      "source": [
        "encoder_hidden_states = np.array([\n",
        "    [1, 5, 11],\n",
        "    [7, 4, 1],\n",
        "    [8, 12, 2],\n",
        "    [-9, 0, 1]\n",
        "\n",
        "]).astype(float).T\n",
        "\n",
        "encoder_hidden_states"
      ]
    },
    {
      "cell_type": "markdown",
      "metadata": {
        "id": "xE1MtuQT3ka-"
      },
      "source": [
        "Тогда для подсчета скалярных произведений между единственным состоянием декодера и всеми состояниями энкодера можно воспользоваться следующей функцией (которая по факту представляет собой просто матричное умножение и приведение типов):"
      ]
    },
    {
      "cell_type": "code",
      "execution_count": null,
      "metadata": {
        "id": "ygao9chG3ka-"
      },
      "outputs": [],
      "source": [
        "def dot_product_attention_score(decoder_hidden_state, encoder_hidden_states):\n",
        "    '''\n",
        "    decoder_hidden_state: np.array of shape (n_features, 1)\n",
        "    encoder_hidden_states: np.array of shape (n_features, n_states)\n",
        "\n",
        "    return: np.array of shape (1, n_states)\n",
        "        Array with dot product attention scores\n",
        "    '''\n",
        "    attention_scores = np.dot(decoder_hidden_state.T, encoder_hidden_states)\n",
        "    return attention_scores"
      ]
    },
    {
      "cell_type": "markdown",
      "source": [
        "Опять же, обратите внимание на транспонирование вектора decoder_hidden_state в функции выше. Это нужно для корректировки размерностей."
      ],
      "metadata": {
        "id": "qaETquEkbZAn"
      }
    },
    {
      "cell_type": "markdown",
      "source": [
        "Теперь попробуем применить нашу функцию для вычисления значений внимания для заданного состояния декодера и всех состояний энкодера:"
      ],
      "metadata": {
        "id": "_L0vqckJbj1b"
      }
    },
    {
      "cell_type": "code",
      "execution_count": null,
      "metadata": {
        "id": "LP0VOSlH3ka-"
      },
      "outputs": [],
      "source": [
        "dot_product_attention_score(decoder_hidden_state, encoder_hidden_states)"
      ]
    },
    {
      "cell_type": "markdown",
      "metadata": {
        "id": "bO8es38L3ka-"
      },
      "source": [
        "Для подсчета \"весов\" (вероятностей) нам необходим Softmax:"
      ]
    },
    {
      "cell_type": "code",
      "execution_count": null,
      "metadata": {
        "id": "QthOMqvz3ka-"
      },
      "outputs": [],
      "source": [
        "def softmax(vector):\n",
        "    '''\n",
        "    vector: np.array of shape (n, m)\n",
        "\n",
        "    return: np.array of shape (n, m)\n",
        "        Matrix where softmax is computed for every row independently\n",
        "    '''\n",
        "    nice_vector = vector - vector.max()\n",
        "    exp_vector = np.exp(nice_vector)\n",
        "    exp_denominator = np.sum(exp_vector, axis=1)[:, np.newaxis]\n",
        "    softmax_ = exp_vector / exp_denominator\n",
        "    return softmax_"
      ]
    },
    {
      "cell_type": "markdown",
      "source": [
        "**Замечание.**\n",
        "\n",
        "Обратим внимание, что перед вычислением softmax мы выполняем некоторое преобразование:\n",
        "$$nice\\_vector=vector-max(vector)$$\n",
        "\n",
        "Таким образом, у нас все значения в $nice\\_vector$ будут неположительными.\n",
        "\n",
        "Значит, операция экспоненты позволит получить вектор:\n",
        "\n",
        "$$exp\\_vector=e^{nice\\_vector}=[x_1, ..., x_N]$$\n",
        "\n",
        "При этом для любого $i\\in[1, N]$ верно неравенство:\n",
        "\n",
        "$$0<=x_i<=1$$\n",
        "\n",
        "Оно выполняется, т.к. экспонента в степени неположительного числа - это число из отрезка [0; 1].\n",
        "\n",
        "Такое представление значительно лучше, чем возведение экспоненты в положительную степень, т.к. оно не генерирует очень больших чисел, которые могут вызвать массу ошибок округления, что приведет к некорректному вычислению softmax."
      ],
      "metadata": {
        "id": "7TXT36aJyhbU"
      }
    },
    {
      "cell_type": "markdown",
      "source": [
        "Теперь построим вектор весов для всех состояний:"
      ],
      "metadata": {
        "id": "0Hjmh_JVy2tA"
      }
    },
    {
      "cell_type": "code",
      "execution_count": null,
      "metadata": {
        "id": "b-hMTVE63ka-"
      },
      "outputs": [],
      "source": [
        "weights_vector = softmax(dot_product_attention_score(decoder_hidden_state, encoder_hidden_states))\n",
        "\n",
        "weights_vector"
      ]
    },
    {
      "cell_type": "markdown",
      "metadata": {
        "id": "ZD9UGCBs3ka_"
      },
      "source": [
        "Наконец, воспользуемся данными весами и вычислим итоговый вектор внимания, как и описано для dot product attention (т.е. нужно вычислить взвешенную сумму, где каждое состояние энкодера умножается на соответствующий вес):"
      ]
    },
    {
      "cell_type": "code",
      "execution_count": null,
      "metadata": {
        "id": "pWH1ns0O3ka_"
      },
      "outputs": [],
      "source": [
        "attention_vector = weights_vector.dot(encoder_hidden_states.T).T\n",
        "print(attention_vector)\n",
        "\n",
        "plt.figure(figsize=(2, 5))\n",
        "plt.pcolormesh(attention_vector, cmap='spring')\n",
        "plt.colorbar()"
      ]
    },
    {
      "cell_type": "markdown",
      "metadata": {
        "id": "0exbw_RV3ka_"
      },
      "source": [
        "Данный вектор аккумулирует в себе информацию из всех состояний энкодера, взвешенную на основе близости к заданному состоянию декодера.\n",
        "\n",
        "Реализуем все вышеописанные преобразования в единой функции:"
      ]
    },
    {
      "cell_type": "code",
      "execution_count": null,
      "metadata": {
        "id": "E6LaPaPm3ka_"
      },
      "outputs": [],
      "source": [
        "def dot_product_attention(decoder_hidden_state, encoder_hidden_states):\n",
        "    '''\n",
        "    decoder_hidden_state: np.array of shape (n_features, 1)\n",
        "    encoder_hidden_states: np.array of shape (n_features, n_states)\n",
        "\n",
        "    return: np.array of shape (n_features, 1)\n",
        "        Final attention vector\n",
        "    '''\n",
        "    softmax_vector = softmax(dot_product_attention_score(decoder_hidden_state, encoder_hidden_states))\n",
        "    attention_vector = softmax_vector.dot(encoder_hidden_states.T).T\n",
        "    return attention_vector"
      ]
    },
    {
      "cell_type": "code",
      "execution_count": null,
      "metadata": {
        "id": "YMUta9p23ka_"
      },
      "outputs": [],
      "source": [
        "assert (attention_vector == dot_product_attention(decoder_hidden_state, encoder_hidden_states)).all()"
      ]
    },
    {
      "cell_type": "markdown",
      "metadata": {
        "id": "BuYZ8WA33ka_"
      },
      "source": [
        "#### Multiplicative attention\n",
        "Ваша текущая задача: реализовать multiplicative attention.\n",
        "$$ e_i = \\mathbf{s}^TW_{mult}\\mathbf{h}_i $$\n",
        "\n",
        "Матрица весов `W_mult` задана ниже.\n",
        "Стоит заметить, что multiplicative attention позволяет работать с состояниями энкодера и декодера различных размерностей, поэтому сейчас мы рассмотрим новые состояния энкодера:"
      ]
    },
    {
      "cell_type": "code",
      "execution_count": null,
      "metadata": {
        "id": "2CzCHjjK3ka_"
      },
      "outputs": [],
      "source": [
        "encoder_hidden_states_complex = np.array([\n",
        "    [1, 5, 11, 4, -4],\n",
        "    [7, 4, 1, 2, 2],\n",
        "    [8, 12, 2, 11, 5],\n",
        "    [-9, 0, 1, 8, 12]\n",
        "\n",
        "]).astype(float).T\n",
        "\n",
        "# Рассмотрим какую-то конкретную матрицу весов\n",
        "W_mult = np.array([\n",
        "    [-0.78, -0.97, -1.09, -1.79,  0.24],\n",
        "    [ 0.04, -0.27, -0.98, -0.49,  0.52],\n",
        "    [ 1.08,  0.91, -0.99,  2.04, -0.15]\n",
        "])"
      ]
    },
    {
      "cell_type": "code",
      "execution_count": null,
      "metadata": {
        "id": "-0kC9XGd3kbA"
      },
      "outputs": [],
      "source": [
        "# your code here"
      ]
    },
    {
      "cell_type": "markdown",
      "metadata": {
        "id": "g3zde8dw3kbA"
      },
      "source": [
        "Реализуйте подсчет attention согласно формулам и реализуйте итоговую функцию `multiplicative_attention`:"
      ]
    },
    {
      "cell_type": "code",
      "execution_count": null,
      "metadata": {
        "id": "8_S3TPLd3kbA"
      },
      "outputs": [],
      "source": [
        "def multiplicative_attention(decoder_hidden_state, encoder_hidden_states, W_mult):\n",
        "    '''\n",
        "    decoder_hidden_state: np.array of shape (n_features_dec, 1)\n",
        "    encoder_hidden_states: np.array of shape (n_features_enc, n_states)\n",
        "    W_mult: np.array of shape (n_features_dec, n_features_enc)\n",
        "\n",
        "    return: np.array of shape (n_features_enc, 1)\n",
        "        Final attention vector\n",
        "    '''\n",
        "    # your code here\n",
        "    return attention_vector"
      ]
    },
    {
      "cell_type": "markdown",
      "source": [
        "Обратите внимание, что на вход мы получаем вектор скрытого состояния декодировщика, матрицу из векторов скрытого состояния кодировщика и матрицу весов (см. примеры этих матриц/векторов выше).\n",
        "\n",
        "На выходе нужно получить **вектор внимания**. Т.е. надо не забывать про вычисление Softmax и подсчёта взвешенной суммы (как мы делали в функции dot_product_attention)."
      ],
      "metadata": {
        "id": "sfhDycWacgfA"
      }
    },
    {
      "cell_type": "markdown",
      "metadata": {
        "id": "COafOJxw3kbA"
      },
      "source": [
        "#### Additive attention\n",
        "Теперь вам предстоит реализовать additive attention.\n",
        "\n",
        "$$ e_i = \\mathbf{v}^T \\text{tanh} (W_{add-enc} \\mathbf{h}_i + W_{add-dec} \\mathbf{s}) $$\n",
        "\n",
        "Матрицы весов `W_add_enc` и `W_add_dec` доступны ниже, как и вектор весов `v_add`. Для вычисления активации можно воспользоваться `np.tanh`."
      ]
    },
    {
      "cell_type": "code",
      "execution_count": null,
      "metadata": {
        "id": "Ckvj-RKt3kbA"
      },
      "outputs": [],
      "source": [
        "v_add = np.array([[-0.35, -0.58,  0.07,  1.39, -0.79, -1.78, -0.35]]).T\n",
        "\n",
        "W_add_enc = np.array([\n",
        "    [-1.34, -0.1 , -0.38,  0.12, -0.34],\n",
        "    [-1.  ,  1.28,  0.49, -0.41, -0.32],\n",
        "    [-0.39, -1.38,  1.26,  1.21,  0.15],\n",
        "    [-0.18,  0.04,  1.36, -1.18, -0.53],\n",
        "    [-0.23,  0.96,  1.02,  0.39, -1.26],\n",
        "    [-1.27,  0.89, -0.85, -0.01, -1.19],\n",
        "    [ 0.46, -0.12, -0.86, -0.93, -0.4 ]\n",
        "])\n",
        "\n",
        "W_add_dec = np.array([\n",
        "    [-1.62, -0.02, -0.39],\n",
        "    [ 0.43,  0.61, -0.23],\n",
        "    [-1.5 , -0.43, -0.91],\n",
        "    [-0.14,  0.03,  0.05],\n",
        "    [ 0.85,  0.51,  0.63],\n",
        "    [ 0.39, -0.42,  1.34],\n",
        "    [-0.47, -0.31, -1.34]\n",
        "])"
      ]
    },
    {
      "cell_type": "code",
      "execution_count": null,
      "metadata": {
        "id": "QHqxerr93kbA"
      },
      "outputs": [],
      "source": [
        "# your code here"
      ]
    },
    {
      "cell_type": "markdown",
      "metadata": {
        "id": "n5J6ieE_3kbA"
      },
      "source": [
        "Реализуйте подсчет attention согласно формулам и реализуйте итоговую функцию `additive_attention`:"
      ]
    },
    {
      "cell_type": "code",
      "execution_count": null,
      "metadata": {
        "id": "eo866njZ3kbA"
      },
      "outputs": [],
      "source": [
        "def additive_attention(decoder_hidden_state, encoder_hidden_states, v_add, W_add_enc, W_add_dec):\n",
        "    '''\n",
        "    decoder_hidden_state: np.array of shape (n_features_dec, 1)\n",
        "    encoder_hidden_states: np.array of shape (n_features_enc, n_states)\n",
        "    v_add: np.array of shape (n_features_int, 1)\n",
        "    W_add_enc: np.array of shape (n_features_int, n_features_enc)\n",
        "    W_add_dec: np.array of shape (n_features_int, n_features_dec)\n",
        "\n",
        "    return: np.array of shape (n_features_enc, 1)\n",
        "        Final attention vector\n",
        "    '''\n",
        "    # your code here\n",
        "    return attention_vector"
      ]
    },
    {
      "cell_type": "markdown",
      "source": [
        "Эта функция реализуется по аналогии с функцией dot_product_attention, но на вход подаются дополнительно вспомогательные векторы/матрицы весов. Так же, как в мультипликативном внимании, функция должна возвращать **вектор внимания**."
      ],
      "metadata": {
        "id": "VDxpIw45dC6P"
      }
    },
    {
      "cell_type": "markdown",
      "metadata": {
        "id": "SynmAhDS3kbA"
      },
      "source": [
        "Сдайте функции `multiplicative_attention` и `additive_attention` в контест.\n",
        "\n",
        "Не забудьте про импорт `numpy`!"
      ]
    }
  ],
  "metadata": {
    "colab": {
      "provenance": []
    },
    "kernelspec": {
      "display_name": "Py3 Research",
      "language": "python",
      "name": "py3_research"
    },
    "language_info": {
      "codemirror_mode": {
        "name": "ipython",
        "version": 3
      },
      "file_extension": ".py",
      "mimetype": "text/x-python",
      "name": "python",
      "nbconvert_exporter": "python",
      "pygments_lexer": "ipython3",
      "version": "3.7.7"
    }
  },
  "nbformat": 4,
  "nbformat_minor": 0
}